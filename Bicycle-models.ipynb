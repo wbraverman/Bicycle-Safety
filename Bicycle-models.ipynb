{
 "cells": [
  {
   "cell_type": "code",
   "execution_count": 28,
   "metadata": {},
   "outputs": [],
   "source": [
    "import pandas as pd\n",
    "import numpy as np\n",
    "import seaborn as sns\n",
    "import matplotlib.pyplot as plt\n",
    "from scipy.stats import randint\n",
    "\n",
    "# Preprocessing and metrics \n",
    "from sklearn.model_selection import train_test_split, cross_val_score, RandomizedSearchCV\n",
    "from sklearn.metrics import accuracy_score, classification_report, confusion_matrix, ConfusionMatrixDisplay\n",
    "from sklearn.preprocessing import StandardScaler\n",
    "from sklearn.pipeline import Pipeline\n",
    "from sklearn.decomposition import PCA\n",
    "\n",
    "# Machine learning models\n",
    "from sklearn.linear_model import LogisticRegression\n",
    "from sklearn.ensemble import RandomForestClassifier\n",
    "from sklearn.tree import DecisionTreeClassifier\n",
    "from sklearn import tree"
   ]
  },
  {
   "cell_type": "code",
   "execution_count": 2,
   "metadata": {},
   "outputs": [],
   "source": [
    "# This is an edited version of the original dataframe (done in a previous notebook)\n",
    "# Don't have to repeat the data cleaning steps again \n",
    "\n",
    "bicycle = pd.read_csv('Bike_Crash_edited')"
   ]
  },
  {
   "cell_type": "markdown",
   "metadata": {},
   "source": [
    "## Preprocessing Step"
   ]
  },
  {
   "cell_type": "code",
   "execution_count": 3,
   "metadata": {},
   "outputs": [],
   "source": [
    "# Label encode the 'CrashMonth' column instead of one-hot encoding it, since that would introduce too many additional columns\n",
    "\n",
    "month_mapping = {\n",
    "        'January': 1, 'February': 2, 'March': 3, 'April': 4,\n",
    "        'May': 5, 'June': 6, 'July': 7, 'August': 8,\n",
    "        'September': 9, 'October': 10, 'November': 11, 'December': 12\n",
    "    }\n",
    "\n",
    "bicycle['CrashMonth'] = bicycle['CrashMonth'].map(month_mapping)"
   ]
  },
  {
   "cell_type": "code",
   "execution_count": 4,
   "metadata": {},
   "outputs": [],
   "source": [
    "# Label encode the 'CrashDay' column too\n",
    "\n",
    "weekday_mapping = {\n",
    "    'Monday': 1,\n",
    "    'Tuesday': 2,\n",
    "    'Wednesday': 3,\n",
    "    'Thursday': 4,\n",
    "    'Friday': 5,\n",
    "    'Saturday': 6,\n",
    "    'Sunday': 7\n",
    "}\n",
    "\n",
    "bicycle['CrashDay'] = bicycle['CrashDay'].map(weekday_mapping)"
   ]
  },
  {
   "cell_type": "code",
   "execution_count": 5,
   "metadata": {},
   "outputs": [],
   "source": [
    "## The selected features (X)\n",
    "features = ['CrashDay', 'CrashMonth', 'CrashHour', 'NumLanes', 'RdCharacte', 'RdConditio', 'RdFeature', 'Region', 'TraffCntrl', 'Weather']\n",
    "\n",
    "## Drop first columns of each one-hot encoded feature to avoid overfitting\n",
    "X = pd.get_dummies(bicycle[features], \n",
    "                   dtype=int, \n",
    "                   drop_first=True)\n",
    "\n",
    "## Target (y) is binary (no need to encode)\n",
    "y = bicycle['AmbulanceR']\n",
    "\n",
    "## Split data into training and testing sets\n",
    "X_train, X_test, y_train, y_test = train_test_split(X, y, \n",
    "                                                    test_size=0.2, \n",
    "                                                    random_state=42,\n",
    "                                                    shuffle=True)"
   ]
  },
  {
   "cell_type": "markdown",
   "metadata": {},
   "source": [
    "# The Models"
   ]
  },
  {
   "cell_type": "markdown",
   "metadata": {},
   "source": [
    "The models that we chose to work with are logistic regression, decision trees, and random forest, all of which work best for datasets that consist of all categorical variables (**Note:** one must still encode the features before fitting the models). \n",
    "\n",
    "We first focus on a target variable with only two categories, the 'AmbulanceR' column consisting of 'yes' or 'no'. This is a simple enough indicator on whether a bike accident was serious or not."
   ]
  },
  {
   "cell_type": "markdown",
   "metadata": {},
   "source": [
    "## Logistic Regression"
   ]
  },
  {
   "cell_type": "code",
   "execution_count": 6,
   "metadata": {},
   "outputs": [],
   "source": [
    "## (Binary) Logistic Regression model\n",
    "\n",
    "log_reg = LogisticRegression(penalty=None, max_iter=1000)\n",
    "\n",
    "log_reg.fit(X_train, y_train)\n",
    "\n",
    "## Evaluate on training and testing sets\n",
    "train_log_pred = log_reg.predict(X_train)\n",
    "test_log_pred = log_reg.predict(X_test)"
   ]
  },
  {
   "cell_type": "code",
   "execution_count": 7,
   "metadata": {},
   "outputs": [
    {
     "name": "stdout",
     "output_type": "stream",
     "text": [
      "Test accuracy: 0.6793229643183898\n",
      "Training accuracy: 0.6931701178354879\n"
     ]
    }
   ],
   "source": [
    "print(f\"Test accuracy:\", accuracy_score(y_test, test_log_pred))\n",
    "print(f\"Training accuracy:\", accuracy_score(y_train, train_log_pred))"
   ]
  },
  {
   "cell_type": "code",
   "execution_count": 29,
   "metadata": {},
   "outputs": [
    {
     "name": "stdout",
     "output_type": "stream",
     "text": [
      "Cross-validation scores: [0.69030192 0.69030192 0.69061785 0.69061785 0.69016018]\n",
      "Mean cross-validation score: 0.690399944728363\n"
     ]
    }
   ],
   "source": [
    "# Perform cross-validation (to check for overfitting)\n",
    "cv_scores = cross_val_score(log_reg, X, y, cv=5)\n",
    "print(f\"Cross-validation scores: {cv_scores}\")\n",
    "print(f\"Mean cross-validation score: {cv_scores.mean()}\")"
   ]
  },
  {
   "cell_type": "markdown",
   "metadata": {},
   "source": [
    "### (Binary) Classification Evaluation Metrics\n",
    "\n",
    "$$\n",
    "\\text{accuracy} = \\frac{\\text{TP+TN}}{\\text{TP} + \\text{TP+TN+FP+FN}},\n",
    "$$\n",
    "\n",
    "$$\n",
    "\\text{precision} = \\frac{\\text{TP}}{\\text{TP} + \\text{FP}},\n",
    "$$\n",
    "\n",
    "$$\n",
    "\\text{recall} = \\frac{\\text{TP}}{\\text{TP} + \\text{FN}}.\n",
    "$$\n",
    "\n",
    "\n",
    "The **$F_1$-score** is defined to be\n",
    "\n",
    "$$F_1 = \\frac{2}{\\text{precision}^{-1} + \\text{recall}^{-1}}$$\n",
    "\n",
    "which is the harmonic mean of precision and recall. It is used as a performance metric for classification, and great for unbalanced data, hence is better than accuracy in these scenarios. \n",
    "\n",
    "- Excellent: $\\quad F_1>0.9$ \n",
    "- Good: $\\quad 0.8 \\le F_1\\le 0.9$ \n",
    "- Average: $\\quad 0.5 \\le F_1\\le 0.8$ \n",
    "- Poor: $\\quad F_1<0.5$ "
   ]
  },
  {
   "cell_type": "code",
   "execution_count": 38,
   "metadata": {},
   "outputs": [
    {
     "name": "stdout",
     "output_type": "stream",
     "text": [
      "                precision    recall  f1-score   support\n",
      "\n",
      " Ambulance: no       0.00      0.00      0.00       701\n",
      "Ambulance: yes       0.68      1.00      0.81      1485\n",
      "\n",
      "      accuracy                           0.68      2186\n",
      "     macro avg       0.34      0.50      0.40      2186\n",
      "  weighted avg       0.46      0.68      0.55      2186\n",
      "\n"
     ]
    }
   ],
   "source": [
    "# zero_division=0.0 was set to advoid warning\n",
    "# means that some classes in y_test were not predicted (why?)\n",
    "\n",
    "print(classification_report(y_test, test_log_pred, zero_division=0.0,\n",
    "                            target_names = ['Ambulance: no', 'Ambulance: yes']))"
   ]
  },
  {
   "cell_type": "markdown",
   "metadata": {},
   "source": [
    "Odds ratio: \n",
    "- $e^\\beta < 1$ indicates a decrease in the odds of the outcome\n",
    "- $e^\\beta > 1$ indicates an incease in the odds of the outcome"
   ]
  },
  {
   "cell_type": "code",
   "execution_count": 39,
   "metadata": {},
   "outputs": [
    {
     "data": {
      "text/plain": [
       "array([[1.02457956, 1.02453052, 1.00512592, 0.97382557, 0.82799491,\n",
       "        1.31529637, 0.90969273, 0.6878811 , 0.87946525, 0.90462126,\n",
       "        0.88819927]])"
      ]
     },
     "execution_count": 39,
     "metadata": {},
     "output_type": "execute_result"
    }
   ],
   "source": [
    "# Odds ratio\n",
    "np.exp(log_reg.coef_)"
   ]
  },
  {
   "cell_type": "code",
   "execution_count": 40,
   "metadata": {},
   "outputs": [
    {
     "name": "stdout",
     "output_type": "stream",
     "text": [
      "The mean of predicted probablities when an ambulance was called is 0.6931822326503855\n"
     ]
    }
   ],
   "source": [
    "print(f\"The mean of predicted probablities when an ambulance was called is\", log_reg.predict_proba(X_train)[:,1].mean())"
   ]
  },
  {
   "cell_type": "code",
   "execution_count": null,
   "metadata": {},
   "outputs": [
    {
     "data": {
      "text/plain": [
       "array([[   0,  701],\n",
       "       [   0, 1485]])"
      ]
     },
     "execution_count": 11,
     "metadata": {},
     "output_type": "execute_result"
    }
   ],
   "source": [
    "# Same as random forest\n",
    "confusion_matrix(y_test, test_log_pred)"
   ]
  },
  {
   "cell_type": "markdown",
   "metadata": {},
   "source": [
    "## Decision Trees"
   ]
  },
  {
   "cell_type": "code",
   "execution_count": 12,
   "metadata": {},
   "outputs": [],
   "source": [
    "tree_clf = DecisionTreeClassifier(max_depth=4, random_state= 216)\n",
    "\n",
    "tree_clf.fit(X_train, y_train)\n",
    "\n",
    "pred_tree_clf = tree_clf.predict(X_test)"
   ]
  },
  {
   "cell_type": "code",
   "execution_count": 13,
   "metadata": {},
   "outputs": [
    {
     "data": {
      "text/plain": [
       "0.6765782250686185"
      ]
     },
     "execution_count": 13,
     "metadata": {},
     "output_type": "execute_result"
    }
   ],
   "source": [
    "accuracy_score(y_test, pred_tree_clf)"
   ]
  },
  {
   "cell_type": "code",
   "execution_count": null,
   "metadata": {},
   "outputs": [
    {
     "name": "stdout",
     "output_type": "stream",
     "text": [
      "Cross-validation scores: [0.68755718 0.68984446 0.68832952 0.69061785 0.68970252]\n",
      "Mean cross-validation score: 0.6892103064854147\n"
     ]
    }
   ],
   "source": [
    "# The mean cv score for random forest is slightly smaller than the one for logistic regression (0.69)\n",
    "\n",
    "cv_scores = cross_val_score(tree_clf, X, y, cv=5)\n",
    "print(f\"Cross-validation scores: {cv_scores}\")\n",
    "print(f\"Mean cross-validation score: {cv_scores.mean()}\")"
   ]
  },
  {
   "cell_type": "code",
   "execution_count": 37,
   "metadata": {},
   "outputs": [
    {
     "name": "stdout",
     "output_type": "stream",
     "text": [
      "                precision    recall  f1-score   support\n",
      "\n",
      " Ambulance: no       0.00      0.00      0.00       701\n",
      "Ambulance: yes       0.68      1.00      0.81      1485\n",
      "\n",
      "      accuracy                           0.68      2186\n",
      "     macro avg       0.34      0.50      0.40      2186\n",
      "  weighted avg       0.46      0.68      0.55      2186\n",
      "\n"
     ]
    }
   ],
   "source": [
    "# Did not get any warnings here, unlike for the logistic regression model (why?)\n",
    "# Get the same exact table \n",
    "\n",
    "print(classification_report(y_test, pred_tree_clf, target_names = ['Ambulance: no', 'Ambulance: yes']))"
   ]
  },
  {
   "cell_type": "code",
   "execution_count": 14,
   "metadata": {},
   "outputs": [
    {
     "data": {
      "text/html": [
       "<div>\n",
       "<style scoped>\n",
       "    .dataframe tbody tr th:only-of-type {\n",
       "        vertical-align: middle;\n",
       "    }\n",
       "\n",
       "    .dataframe tbody tr th {\n",
       "        vertical-align: top;\n",
       "    }\n",
       "\n",
       "    .dataframe thead th {\n",
       "        text-align: right;\n",
       "    }\n",
       "</style>\n",
       "<table border=\"1\" class=\"dataframe\">\n",
       "  <thead>\n",
       "    <tr style=\"text-align: right;\">\n",
       "      <th></th>\n",
       "      <th>features</th>\n",
       "      <th>importance_score</th>\n",
       "    </tr>\n",
       "  </thead>\n",
       "  <tbody>\n",
       "    <tr>\n",
       "      <th>2</th>\n",
       "      <td>CrashHour</td>\n",
       "      <td>0.426757</td>\n",
       "    </tr>\n",
       "    <tr>\n",
       "      <th>0</th>\n",
       "      <td>CrashDay</td>\n",
       "      <td>0.220661</td>\n",
       "    </tr>\n",
       "    <tr>\n",
       "      <th>1</th>\n",
       "      <td>CrashMonth</td>\n",
       "      <td>0.140621</td>\n",
       "    </tr>\n",
       "    <tr>\n",
       "      <th>7</th>\n",
       "      <td>Region_Mountains</td>\n",
       "      <td>0.073100</td>\n",
       "    </tr>\n",
       "    <tr>\n",
       "      <th>9</th>\n",
       "      <td>TraffCntrl_No Control Present</td>\n",
       "      <td>0.050950</td>\n",
       "    </tr>\n",
       "    <tr>\n",
       "      <th>3</th>\n",
       "      <td>NumLanes_No 2 lanes</td>\n",
       "      <td>0.046706</td>\n",
       "    </tr>\n",
       "    <tr>\n",
       "      <th>10</th>\n",
       "      <td>Weather_Not Clear</td>\n",
       "      <td>0.041204</td>\n",
       "    </tr>\n",
       "    <tr>\n",
       "      <th>4</th>\n",
       "      <td>RdCharacte_Straight - Level</td>\n",
       "      <td>0.000000</td>\n",
       "    </tr>\n",
       "    <tr>\n",
       "      <th>5</th>\n",
       "      <td>RdConditio_Not Dry</td>\n",
       "      <td>0.000000</td>\n",
       "    </tr>\n",
       "    <tr>\n",
       "      <th>6</th>\n",
       "      <td>RdFeature_Special Feature</td>\n",
       "      <td>0.000000</td>\n",
       "    </tr>\n",
       "    <tr>\n",
       "      <th>8</th>\n",
       "      <td>Region_Piedmont</td>\n",
       "      <td>0.000000</td>\n",
       "    </tr>\n",
       "  </tbody>\n",
       "</table>\n",
       "</div>"
      ],
      "text/plain": [
       "                         features  importance_score\n",
       "2                       CrashHour          0.426757\n",
       "0                        CrashDay          0.220661\n",
       "1                      CrashMonth          0.140621\n",
       "7                Region_Mountains          0.073100\n",
       "9   TraffCntrl_No Control Present          0.050950\n",
       "3             NumLanes_No 2 lanes          0.046706\n",
       "10              Weather_Not Clear          0.041204\n",
       "4     RdCharacte_Straight - Level          0.000000\n",
       "5              RdConditio_Not Dry          0.000000\n",
       "6       RdFeature_Special Feature          0.000000\n",
       "8                 Region_Piedmont          0.000000"
      ]
     },
     "execution_count": 14,
     "metadata": {},
     "output_type": "execute_result"
    }
   ],
   "source": [
    "pd.DataFrame({'features' : X_train.columns,\n",
    "              'importance_score' : tree_clf.feature_importances_}).sort_values('importance_score', ascending=False)"
   ]
  },
  {
   "cell_type": "markdown",
   "metadata": {},
   "source": [
    "## Random Forest"
   ]
  },
  {
   "cell_type": "code",
   "execution_count": 15,
   "metadata": {},
   "outputs": [],
   "source": [
    "forest = RandomForestClassifier(n_estimators=500, max_depth=4)\n",
    "\n",
    "forest.fit(X_train, y_train)\n",
    "\n",
    "forest_test_pred = forest.predict(X_test)\n",
    "forest_train_pred = forest.predict(X_train)"
   ]
  },
  {
   "cell_type": "code",
   "execution_count": 16,
   "metadata": {},
   "outputs": [
    {
     "name": "stdout",
     "output_type": "stream",
     "text": [
      "Test accuracy: 0.6793229643183898\n",
      "Train accuracy: 0.6931701178354879\n"
     ]
    }
   ],
   "source": [
    "print(f\"Test accuracy:\", accuracy_score(y_test, forest_test_pred))\n",
    "print(f\"Train accuracy:\", accuracy_score(y_train, forest_train_pred))\n",
    "\n",
    "# print(f\"Percision:\", precision_score(y_test, forest_pred, average=None))\n",
    "# print(f\"Recall:\", recall_score(y_test, forest_pred, pos_label=str))"
   ]
  },
  {
   "cell_type": "code",
   "execution_count": null,
   "metadata": {},
   "outputs": [
    {
     "name": "stdout",
     "output_type": "stream",
     "text": [
      "Cross-validation scores: [0.69030192 0.69030192 0.69061785 0.69061785 0.69016018]\n",
      "Mean cross-validation score: 0.690399944728363\n"
     ]
    }
   ],
   "source": [
    "# mean cv score is same as logistic regression\n",
    "\n",
    "cv_scores = cross_val_score(forest, X, y, cv=5)\n",
    "print(f\"Cross-validation scores: {cv_scores}\")\n",
    "print(f\"Mean cross-validation score: {cv_scores.mean()}\")"
   ]
  },
  {
   "cell_type": "code",
   "execution_count": 43,
   "metadata": {},
   "outputs": [
    {
     "name": "stdout",
     "output_type": "stream",
     "text": [
      "                precision    recall  f1-score   support\n",
      "\n",
      " Ambulance: no       0.00      0.00      0.00       701\n",
      "Ambulance: yes       0.68      1.00      0.81      1485\n",
      "\n",
      "      accuracy                           0.68      2186\n",
      "     macro avg       0.34      0.50      0.40      2186\n",
      "  weighted avg       0.46      0.68      0.55      2186\n",
      "\n"
     ]
    }
   ],
   "source": [
    "print(classification_report(y_test, forest_test_pred, zero_division=0.0,\n",
    "                            target_names = ['Ambulance: no', 'Ambulance: yes']))"
   ]
  },
  {
   "cell_type": "code",
   "execution_count": 17,
   "metadata": {},
   "outputs": [
    {
     "data": {
      "text/plain": [
       "<sklearn.metrics._plot.confusion_matrix.ConfusionMatrixDisplay at 0x1692e6840>"
      ]
     },
     "execution_count": 17,
     "metadata": {},
     "output_type": "execute_result"
    },
    {
     "data": {
      "image/png": "[encoded data removed]",
      "text/plain": [
       "<Figure size 640x480 with 2 Axes>"
      ]
     },
     "metadata": {},
     "output_type": "display_data"
    }
   ],
   "source": [
    "ConfusionMatrixDisplay(confusion_matrix(y_test, forest_test_pred)).plot()"
   ]
  },
  {
   "cell_type": "code",
   "execution_count": 18,
   "metadata": {},
   "outputs": [
    {
     "data": {
      "text/html": [
       "<div>\n",
       "<style scoped>\n",
       "    .dataframe tbody tr th:only-of-type {\n",
       "        vertical-align: middle;\n",
       "    }\n",
       "\n",
       "    .dataframe tbody tr th {\n",
       "        vertical-align: top;\n",
       "    }\n",
       "\n",
       "    .dataframe thead th {\n",
       "        text-align: right;\n",
       "    }\n",
       "</style>\n",
       "<table border=\"1\" class=\"dataframe\">\n",
       "  <thead>\n",
       "    <tr style=\"text-align: right;\">\n",
       "      <th></th>\n",
       "      <th>feature</th>\n",
       "      <th>importance_score</th>\n",
       "    </tr>\n",
       "  </thead>\n",
       "  <tbody>\n",
       "    <tr>\n",
       "      <th>2</th>\n",
       "      <td>CrashHour</td>\n",
       "      <td>0.306680</td>\n",
       "    </tr>\n",
       "    <tr>\n",
       "      <th>1</th>\n",
       "      <td>CrashMonth</td>\n",
       "      <td>0.187436</td>\n",
       "    </tr>\n",
       "    <tr>\n",
       "      <th>0</th>\n",
       "      <td>CrashDay</td>\n",
       "      <td>0.122441</td>\n",
       "    </tr>\n",
       "    <tr>\n",
       "      <th>7</th>\n",
       "      <td>Region_Mountains</td>\n",
       "      <td>0.079364</td>\n",
       "    </tr>\n",
       "    <tr>\n",
       "      <th>4</th>\n",
       "      <td>RdCharacte_Straight - Level</td>\n",
       "      <td>0.065070</td>\n",
       "    </tr>\n",
       "    <tr>\n",
       "      <th>6</th>\n",
       "      <td>RdFeature_Special Feature</td>\n",
       "      <td>0.057122</td>\n",
       "    </tr>\n",
       "    <tr>\n",
       "      <th>9</th>\n",
       "      <td>TraffCntrl_No Control Present</td>\n",
       "      <td>0.045222</td>\n",
       "    </tr>\n",
       "    <tr>\n",
       "      <th>5</th>\n",
       "      <td>RdConditio_Not Dry</td>\n",
       "      <td>0.040117</td>\n",
       "    </tr>\n",
       "    <tr>\n",
       "      <th>8</th>\n",
       "      <td>Region_Piedmont</td>\n",
       "      <td>0.037018</td>\n",
       "    </tr>\n",
       "    <tr>\n",
       "      <th>3</th>\n",
       "      <td>NumLanes_No 2 lanes</td>\n",
       "      <td>0.035749</td>\n",
       "    </tr>\n",
       "    <tr>\n",
       "      <th>10</th>\n",
       "      <td>Weather_Not Clear</td>\n",
       "      <td>0.023780</td>\n",
       "    </tr>\n",
       "  </tbody>\n",
       "</table>\n",
       "</div>"
      ],
      "text/plain": [
       "                          feature  importance_score\n",
       "2                       CrashHour          0.306680\n",
       "1                      CrashMonth          0.187436\n",
       "0                        CrashDay          0.122441\n",
       "7                Region_Mountains          0.079364\n",
       "4     RdCharacte_Straight - Level          0.065070\n",
       "6       RdFeature_Special Feature          0.057122\n",
       "9   TraffCntrl_No Control Present          0.045222\n",
       "5              RdConditio_Not Dry          0.040117\n",
       "8                 Region_Piedmont          0.037018\n",
       "3             NumLanes_No 2 lanes          0.035749\n",
       "10              Weather_Not Clear          0.023780"
      ]
     },
     "execution_count": 18,
     "metadata": {},
     "output_type": "execute_result"
    }
   ],
   "source": [
    "pd.DataFrame({'feature' : X_train.columns,\n",
    "              'importance_score' : forest.feature_importances_}).sort_values('importance_score', ascending=False)"
   ]
  },
  {
   "cell_type": "markdown",
   "metadata": {},
   "source": [
    "### Hyperparameter Tuning"
   ]
  },
  {
   "cell_type": "markdown",
   "metadata": {},
   "source": [
    "\n",
    "The code below randomly searches for the best hyperparameters, in a given range for each hyperparameter, for the random forest model."
   ]
  },
  {
   "cell_type": "code",
   "execution_count": 19,
   "metadata": {},
   "outputs": [
    {
     "name": "stdout",
     "output_type": "stream",
     "text": [
      "Best hyperparameters: {'max_depth': 2, 'n_estimators': 307}\n"
     ]
    }
   ],
   "source": [
    "# The chosen hyperparameters for the random forest model, and their given ranges, stored in a dictionary \n",
    "param_dist = {'n_estimators': randint(50,500),\n",
    "              'max_depth': randint(1,20)}\n",
    "\n",
    "rf = RandomForestClassifier()\n",
    "\n",
    "# Use random search to find the best hyperparameters\n",
    "rand_search = RandomizedSearchCV(rf, \n",
    "                                 param_distributions = param_dist, \n",
    "                                 n_iter=5, \n",
    "                                 cv=5)\n",
    "\n",
    "rand_search.fit(X_train, y_train)\n",
    "\n",
    "# This takes a while to run\n",
    "print('Best hyperparameters:',  rand_search.best_params_)"
   ]
  },
  {
   "cell_type": "markdown",
   "metadata": {},
   "source": [
    "# Multi Classification"
   ]
  },
  {
   "cell_type": "markdown",
   "metadata": {},
   "source": [
    "We train our models with a multi categorical target the 'BikeInjury' column."
   ]
  },
  {
   "cell_type": "code",
   "execution_count": 20,
   "metadata": {},
   "outputs": [],
   "source": [
    "## The selected features (X)\n",
    "features = ['CrashDay', 'CrashMonth', 'CrashHour', 'NumLanes', 'RdCharacte', 'RdConditio', 'RdFeature', 'Region', 'TraffCntrl', 'Weather']\n",
    "\n",
    "## The same features \n",
    "X_multi = pd.get_dummies(bicycle[features], \n",
    "                   dtype=int, \n",
    "                   drop_first=True)\n",
    "\n",
    "## Multi-categorical target (no need to encode)\n",
    "y_multi = bicycle['BikeInjury']\n",
    "\n",
    "## Split data into training and testing sets\n",
    "X_multi_train, X_multi_test, y_multi_train, y_multi_test = train_test_split(X_multi, y_multi, \n",
    "                                                    test_size=0.2, \n",
    "                                                    random_state=512,\n",
    "                                                    shuffle=True)"
   ]
  },
  {
   "cell_type": "markdown",
   "metadata": {},
   "source": [
    "## Multinomial Logistic Regression"
   ]
  },
  {
   "cell_type": "code",
   "execution_count": 21,
   "metadata": {},
   "outputs": [],
   "source": [
    "## Multinomial Logistic Regression model\n",
    "\n",
    "multilog_reg = LogisticRegression(penalty=None, max_iter=1000)\n",
    "\n",
    "multilog_reg.fit(X_multi_train, y_multi_train)\n",
    "\n",
    "## Evaluate on training and testing sets\n",
    "train_multilog_pred = multilog_reg.predict(X_multi_train)\n",
    "test_multilog_pred = multilog_reg.predict(X_multi_test)"
   ]
  },
  {
   "cell_type": "code",
   "execution_count": 22,
   "metadata": {},
   "outputs": [
    {
     "name": "stdout",
     "output_type": "stream",
     "text": [
      "Test accuracy: 0.4464775846294602\n",
      "Training accuracy: 0.44846127445372386\n"
     ]
    }
   ],
   "source": [
    "print(f\"Test accuracy:\", accuracy_score(y_multi_test, test_multilog_pred))\n",
    "print(f\"Training accuracy:\", accuracy_score(y_multi_train, train_multilog_pred))"
   ]
  },
  {
   "cell_type": "code",
   "execution_count": 23,
   "metadata": {},
   "outputs": [
    {
     "name": "stdout",
     "output_type": "stream",
     "text": [
      "Cross-validation scores: [0.44098811 0.43549863 0.42974828 0.44576659 0.44073227]\n",
      "Mean cross-validation score: 0.4385467746696786\n"
     ]
    }
   ],
   "source": [
    "cv_scores = cross_val_score(multilog_reg, X_multi, y_multi, cv=5)\n",
    "print(f\"Cross-validation scores: {cv_scores}\")\n",
    "print(f\"Mean cross-validation score: {cv_scores.mean()}\")"
   ]
  },
  {
   "cell_type": "markdown",
   "metadata": {},
   "source": [
    "It appears that the multinomial logistic regression model performs less accurate than the binomial logistic regression model."
   ]
  },
  {
   "cell_type": "code",
   "execution_count": 24,
   "metadata": {},
   "outputs": [
    {
     "name": "stdout",
     "output_type": "stream",
     "text": [
      "Mean of predicted probabilities of class 'A: Suspected Serious Injury': 0.05319172307149092\n",
      "Mean of predicted probabilities of class 'B: Suspected Minor Injury': 0.42876261639229724\n",
      "Mean of predicted probabilities of class 'C: Possible Injury': 0.42876261639229724\n",
      "Mean of predicted probabilities of class 'K: Killed': 0.42876261639229724\n",
      "Mean of predicted probabilities of class 'O: No Injury': 0.42876261639229724\n"
     ]
    }
   ],
   "source": [
    "i = 0\n",
    "for cat in multilog_reg.classes_:\n",
    "    print(f\"Mean of predicted probabilities of class '{cat}':\", multilog_reg.predict_proba(X_multi_train)[:,i].mean())\n",
    "    i =+ 1"
   ]
  },
  {
   "cell_type": "code",
   "execution_count": null,
   "metadata": {},
   "outputs": [
    {
     "name": "stdout",
     "output_type": "stream",
     "text": [
      "                             precision    recall  f1-score   support\n",
      "\n",
      "A: Suspected Serious Injury       0.00      0.00      0.00       112\n",
      "  B: Suspected Minor Injury       0.44      0.65      0.52       912\n",
      "         C: Possible Injury       0.46      0.43      0.44       895\n",
      "                  K: Killed       0.00      0.00      0.00        48\n",
      "               O: No Injury       0.00      0.00      0.00       219\n",
      "\n",
      "                   accuracy                           0.45      2186\n",
      "                  macro avg       0.18      0.22      0.19      2186\n",
      "               weighted avg       0.37      0.45      0.40      2186\n",
      "\n"
     ]
    }
   ],
   "source": [
    "# Evaluation metrics for multi classification\n",
    "print(classification_report(y_multi_test, test_multilog_pred, zero_division=0.0))"
   ]
  },
  {
   "cell_type": "code",
   "execution_count": 25,
   "metadata": {},
   "outputs": [
    {
     "data": {
      "text/plain": [
       "<sklearn.metrics._plot.confusion_matrix.ConfusionMatrixDisplay at 0x169da48f0>"
      ]
     },
     "execution_count": 25,
     "metadata": {},
     "output_type": "execute_result"
    },
    {
     "data": {
      "image/png": "[encoded data removed]",
      "text/plain": [
       "<Figure size 640x480 with 2 Axes>"
      ]
     },
     "metadata": {},
     "output_type": "display_data"
    }
   ],
   "source": [
    "cm = confusion_matrix(y_multi_test, test_multilog_pred)\n",
    "\n",
    "ConfusionMatrixDisplay(confusion_matrix=cm).plot()"
   ]
  },
  {
   "cell_type": "markdown",
   "metadata": {},
   "source": [
    "## Random Forest (multiple targets)"
   ]
  },
  {
   "cell_type": "code",
   "execution_count": 26,
   "metadata": {},
   "outputs": [],
   "source": [
    "rfc = RandomForestClassifier(n_estimators=500, max_depth=4)\n",
    "\n",
    "rfc.fit(X_multi_train, y_multi_train)\n",
    "\n",
    "rfc_test_pred = forest.predict(X_multi_test)\n",
    "rfc_train_pred = forest.predict(X_multi_train)"
   ]
  },
  {
   "cell_type": "code",
   "execution_count": null,
   "metadata": {},
   "outputs": [
    {
     "name": "stdout",
     "output_type": "stream",
     "text": [
      "Test accuracy: 0.0\n",
      "Train accuracy: 0.0\n"
     ]
    }
   ],
   "source": [
    "# This has a zero accuracy score \n",
    "# Is random forest bad for multi-output?\n",
    "\n",
    "print(f\"Test accuracy:\", accuracy_score(y_multi_test, rfc_test_pred))\n",
    "print(f\"Train accuracy:\", accuracy_score(y_multi_train, rfc_train_pred))"
   ]
  },
  {
   "cell_type": "code",
   "execution_count": null,
   "metadata": {},
   "outputs": [],
   "source": []
  }
 ],
 "metadata": {
  "kernelspec": {
   "display_name": "erdos_spring_2025",
   "language": "python",
   "name": "python3"
  },
  "language_info": {
   "codemirror_mode": {
    "name": "ipython",
    "version": 3
   },
   "file_extension": ".py",
   "mimetype": "text/x-python",
   "name": "python",
   "nbconvert_exporter": "python",
   "pygments_lexer": "ipython3",
   "version": "3.12.8"
  }
 },
 "nbformat": 4,
 "nbformat_minor": 2
}
